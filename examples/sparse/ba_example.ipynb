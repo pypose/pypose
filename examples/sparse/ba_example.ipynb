{
  "cells": [
    {
      "attachments": {},
      "cell_type": "markdown",
      "metadata": {
        "id": "5RoSZ7kJg-W3"
      },
      "source": [
        "# Bundle Adjustment Example using PyPose and the BAL dataset\n",
        "\n",
        "```\n",
        "The dataset is from the following paper:  \n",
        "Sameer Agarwal, Noah Snavely, Steven M. Seitz, and Richard Szeliski.  \n",
        "Bundle adjustment in the large.  \n",
        "In European Conference on Computer Vision (ECCV), 2010.  \n",
        "```\n",
        "\n",
        "Link to the dataset: https://grail.cs.washington.edu/projects/bal/"
      ]
    },
    {
      "attachments": {},
      "cell_type": "markdown",
      "metadata": {
        "id": "A9Be8Hn_g-W5"
      },
      "source": [
        "## Install dependencies"
      ]
    },
    {
      "cell_type": "code",
      "execution_count": null,
      "metadata": {
        "id": "skqa_3Aqb-r_"
      },
      "outputs": [],
      "source": [
        "!git clone https://github.com/pypose/pypose.git\n",
        "%cd /content/pypose\n",
        "!git checkout sparse/ba # temporary, until merged\n",
        "!pip3 install pypose\n",
        "!pip install torchdata \"portalocker>=2.0.0\"\n",
        "%cd /content/pypose/examples/sparse"
      ]
    },
    {
      "attachments": {},
      "cell_type": "markdown",
      "metadata": {
        "id": "qL6jdRhGg-W6"
      },
      "source": [
        "## Use dense bundle adjustment solver"
      ]
    },
    {
      "cell_type": "code",
      "execution_count": null,
      "metadata": {
        "id": "rDPS9qKcc-3y"
      },
      "outputs": [],
      "source": [
        "!python ba_dense.py --dataset ladybug --problem problem-49-7776-pre --step 1000"
      ]
    },
    {
      "attachments": {},
      "cell_type": "markdown",
      "metadata": {
        "id": "86EjYYoHg-W6"
      },
      "source": [
        "## Visualize loss per observation before and after optimization"
      ]
    },
    {
      "cell_type": "code",
      "execution_count": null,
      "metadata": {
        "id": "8Tv7IFlgg-W6"
      },
      "outputs": [],
      "source": [
        "from IPython.display import Image, display\n",
        "\n",
        "display(Image(filename=\"loss_per_observation_initial.png\"))\n",
        "display(Image(filename=\"loss_per_observation_final.png\"))"
      ]
    },
    {
      "attachments": {},
      "cell_type": "markdown",
      "metadata": {},
      "source": [
        "## Visualize loss history"
      ]
    },
    {
      "cell_type": "code",
      "execution_count": null,
      "metadata": {},
      "outputs": [],
      "source": [
        "display(Image(filename=\"loss_history.png\"))"
      ]
    }
  ],
  "metadata": {
    "colab": {
      "gpuType": "T4",
      "provenance": []
    },
    "kernelspec": {
      "display_name": "Python 3",
      "name": "python3"
    },
    "language_info": {
      "codemirror_mode": {
        "name": "ipython",
        "version": 3
      },
      "file_extension": ".py",
      "mimetype": "text/x-python",
      "name": "python",
      "nbconvert_exporter": "python",
      "pygments_lexer": "ipython3",
      "version": "3.11.1"
    }
  },
  "nbformat": 4,
  "nbformat_minor": 0
}
